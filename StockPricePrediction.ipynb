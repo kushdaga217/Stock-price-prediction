{
  "cells": [
    {
      "cell_type": "markdown",
      "metadata": {
        "id": "view-in-github",
        "colab_type": "text"
      },
      "source": [
        "<a href=\"https://colab.research.google.com/github/kushdaga217/Stock-price-prediction/blob/main/StockPricePrediction.ipynb\" target=\"_parent\"><img src=\"https://colab.research.google.com/assets/colab-badge.svg\" alt=\"Open In Colab\"/></a>"
      ]
    },
    {
      "cell_type": "code",
      "execution_count": 1,
      "metadata": {
        "id": "-aFZCOUfE788"
      },
      "outputs": [],
      "source": [
        "import pandas as pd\n",
        "import torch as T\n",
        "import torch.nn as nn\n",
        "import torch.nn.functional as F\n",
        "import torch.optim as optim\n",
        "import numpy as np\n",
        "from datetime import date\n",
        "import copy"
      ]
    },
    {
      "cell_type": "code",
      "execution_count": 2,
      "metadata": {
        "colab": {
          "base_uri": "https://localhost:8080/"
        },
        "id": "hApHJuj0FED9",
        "outputId": "52deb713-f35e-4d06-b850-7f0125b2544b"
      },
      "outputs": [
        {
          "name": "stdout",
          "output_type": "stream",
          "text": [
            "100\n",
            "50000\n"
          ]
        }
      ],
      "source": [
        "max_transaction = int(input())\n",
        "total_money = int(input())"
      ]
    },
    {
      "cell_type": "code",
      "execution_count": 3,
      "metadata": {
        "id": "Cb49qZpdFJ1n",
        "colab": {
          "base_uri": "https://localhost:8080/"
        },
        "outputId": "16870e35-70b6-4837-ea1d-aa2fac38fe45"
      },
      "outputs": [
        {
          "output_type": "stream",
          "name": "stdout",
          "text": [
            "Mounted at /content/gdrive\n"
          ]
        }
      ],
      "source": [
        "from google.colab import drive\n",
        "drive.mount('/content/gdrive')\n"
      ]
    },
    {
      "cell_type": "code",
      "execution_count": 4,
      "metadata": {
        "colab": {
          "base_uri": "https://localhost:8080/"
        },
        "id": "WBd9KUu5FORQ",
        "outputId": "d2dd32a0-77aa-4bcd-a8d6-4ce523fe80ce"
      },
      "outputs": [
        {
          "output_type": "stream",
          "name": "stdout",
          "text": [
            "         Date    Open         High          Low        Close    Adj Close  \\\n",
            "0  2009-01-02  2010.0  2094.899902  2010.000000  2041.500000  1971.716309   \n",
            "1  2009-01-05  2077.5  2077.500000  2035.099976  2059.000000  1988.618408   \n",
            "2  2009-01-06  2082.0  2082.699951  2025.000000  2050.000000  1979.926392   \n",
            "3  2009-01-07  2083.0  2083.000000  1882.000000  1900.000000  1835.053589   \n",
            "4  2009-01-09  1822.0  1915.000000  1800.000000  1835.650024  1772.903076   \n",
            "\n",
            "   Volume  \n",
            "0  1016.0  \n",
            "1   681.0  \n",
            "2   661.0  \n",
            "3  1099.0  \n",
            "4  1006.0  \n",
            "Shape of data  (2711, 7)\n"
          ]
        }
      ],
      "source": [
        "data = pd.read_csv('gdrive/My Drive/MRF.BO.csv')\n",
        "print(data.head())\n",
        "print('Shape of data ', data.shape)"
      ]
    },
    {
      "cell_type": "code",
      "execution_count": 5,
      "metadata": {
        "colab": {
          "base_uri": "https://localhost:8080/"
        },
        "id": "rBhJP7ivMZCs",
        "outputId": "9711f586-28e8-493e-feaf-87986ae645e5"
      },
      "outputs": [
        {
          "output_type": "stream",
          "name": "stdout",
          "text": [
            "Date          0\n",
            "Open         13\n",
            "High         13\n",
            "Low          13\n",
            "Close        13\n",
            "Adj Close    13\n",
            "Volume       13\n",
            "dtype: int64\n"
          ]
        }
      ],
      "source": [
        "print(data.isnull().sum())"
      ]
    },
    {
      "cell_type": "code",
      "execution_count": 6,
      "metadata": {
        "id": "kMknLIRbMuyh"
      },
      "outputs": [],
      "source": [
        "data.dropna(inplace = True)"
      ]
    },
    {
      "cell_type": "code",
      "execution_count": 7,
      "metadata": {
        "colab": {
          "base_uri": "https://localhost:8080/"
        },
        "id": "25qhh4ykMp2b",
        "outputId": "fcb7691a-bbf9-4136-aaec-10a3f542545d"
      },
      "outputs": [
        {
          "output_type": "stream",
          "name": "stdout",
          "text": [
            "Date         0\n",
            "Open         0\n",
            "High         0\n",
            "Low          0\n",
            "Close        0\n",
            "Adj Close    0\n",
            "Volume       0\n",
            "dtype: int64\n"
          ]
        }
      ],
      "source": [
        "print(data.isnull().sum())"
      ]
    },
    {
      "cell_type": "code",
      "source": [
        "data.describe()"
      ],
      "metadata": {
        "colab": {
          "base_uri": "https://localhost:8080/",
          "height": 300
        },
        "id": "rDfwoisNXL89",
        "outputId": "36341bc5-259e-4f7b-dfe9-a1f56a9abcca"
      },
      "execution_count": 8,
      "outputs": [
        {
          "output_type": "execute_result",
          "data": {
            "text/plain": [
              "               Open          High           Low         Close     Adj Close  \\\n",
              "count   2698.000000   2698.000000   2698.000000   2698.000000   2698.000000   \n",
              "mean   30919.592581  31282.721381  30546.136025  30880.024454  30682.824818   \n",
              "std    24203.916015  24424.684244  23945.706928  24160.101749  24106.391686   \n",
              "min     1503.000000   1549.949951   1501.000000   1533.250000   1490.835815   \n",
              "25%     7778.224976   7914.250000   7692.575074   7760.624878   7606.206421   \n",
              "50%    23374.024414  23681.924804  23180.000000  23380.000000  23162.207032   \n",
              "75%    53824.238282  54346.250000  53230.375976  53770.800781  53622.372071   \n",
              "max    81097.648438  81423.000000  79700.046875  80821.000000  80480.453125   \n",
              "\n",
              "              Volume  \n",
              "count    2698.000000  \n",
              "mean     3590.595256  \n",
              "std      7092.260113  \n",
              "min         0.000000  \n",
              "25%       760.000000  \n",
              "50%      1738.500000  \n",
              "75%      3661.750000  \n",
              "max    129383.000000  "
            ],
            "text/html": [
              "\n",
              "  <div id=\"df-5759d61f-4361-41ec-8f9d-3968b8addd7b\">\n",
              "    <div class=\"colab-df-container\">\n",
              "      <div>\n",
              "<style scoped>\n",
              "    .dataframe tbody tr th:only-of-type {\n",
              "        vertical-align: middle;\n",
              "    }\n",
              "\n",
              "    .dataframe tbody tr th {\n",
              "        vertical-align: top;\n",
              "    }\n",
              "\n",
              "    .dataframe thead th {\n",
              "        text-align: right;\n",
              "    }\n",
              "</style>\n",
              "<table border=\"1\" class=\"dataframe\">\n",
              "  <thead>\n",
              "    <tr style=\"text-align: right;\">\n",
              "      <th></th>\n",
              "      <th>Open</th>\n",
              "      <th>High</th>\n",
              "      <th>Low</th>\n",
              "      <th>Close</th>\n",
              "      <th>Adj Close</th>\n",
              "      <th>Volume</th>\n",
              "    </tr>\n",
              "  </thead>\n",
              "  <tbody>\n",
              "    <tr>\n",
              "      <th>count</th>\n",
              "      <td>2698.000000</td>\n",
              "      <td>2698.000000</td>\n",
              "      <td>2698.000000</td>\n",
              "      <td>2698.000000</td>\n",
              "      <td>2698.000000</td>\n",
              "      <td>2698.000000</td>\n",
              "    </tr>\n",
              "    <tr>\n",
              "      <th>mean</th>\n",
              "      <td>30919.592581</td>\n",
              "      <td>31282.721381</td>\n",
              "      <td>30546.136025</td>\n",
              "      <td>30880.024454</td>\n",
              "      <td>30682.824818</td>\n",
              "      <td>3590.595256</td>\n",
              "    </tr>\n",
              "    <tr>\n",
              "      <th>std</th>\n",
              "      <td>24203.916015</td>\n",
              "      <td>24424.684244</td>\n",
              "      <td>23945.706928</td>\n",
              "      <td>24160.101749</td>\n",
              "      <td>24106.391686</td>\n",
              "      <td>7092.260113</td>\n",
              "    </tr>\n",
              "    <tr>\n",
              "      <th>min</th>\n",
              "      <td>1503.000000</td>\n",
              "      <td>1549.949951</td>\n",
              "      <td>1501.000000</td>\n",
              "      <td>1533.250000</td>\n",
              "      <td>1490.835815</td>\n",
              "      <td>0.000000</td>\n",
              "    </tr>\n",
              "    <tr>\n",
              "      <th>25%</th>\n",
              "      <td>7778.224976</td>\n",
              "      <td>7914.250000</td>\n",
              "      <td>7692.575074</td>\n",
              "      <td>7760.624878</td>\n",
              "      <td>7606.206421</td>\n",
              "      <td>760.000000</td>\n",
              "    </tr>\n",
              "    <tr>\n",
              "      <th>50%</th>\n",
              "      <td>23374.024414</td>\n",
              "      <td>23681.924804</td>\n",
              "      <td>23180.000000</td>\n",
              "      <td>23380.000000</td>\n",
              "      <td>23162.207032</td>\n",
              "      <td>1738.500000</td>\n",
              "    </tr>\n",
              "    <tr>\n",
              "      <th>75%</th>\n",
              "      <td>53824.238282</td>\n",
              "      <td>54346.250000</td>\n",
              "      <td>53230.375976</td>\n",
              "      <td>53770.800781</td>\n",
              "      <td>53622.372071</td>\n",
              "      <td>3661.750000</td>\n",
              "    </tr>\n",
              "    <tr>\n",
              "      <th>max</th>\n",
              "      <td>81097.648438</td>\n",
              "      <td>81423.000000</td>\n",
              "      <td>79700.046875</td>\n",
              "      <td>80821.000000</td>\n",
              "      <td>80480.453125</td>\n",
              "      <td>129383.000000</td>\n",
              "    </tr>\n",
              "  </tbody>\n",
              "</table>\n",
              "</div>\n",
              "      <button class=\"colab-df-convert\" onclick=\"convertToInteractive('df-5759d61f-4361-41ec-8f9d-3968b8addd7b')\"\n",
              "              title=\"Convert this dataframe to an interactive table.\"\n",
              "              style=\"display:none;\">\n",
              "        \n",
              "  <svg xmlns=\"http://www.w3.org/2000/svg\" height=\"24px\"viewBox=\"0 0 24 24\"\n",
              "       width=\"24px\">\n",
              "    <path d=\"M0 0h24v24H0V0z\" fill=\"none\"/>\n",
              "    <path d=\"M18.56 5.44l.94 2.06.94-2.06 2.06-.94-2.06-.94-.94-2.06-.94 2.06-2.06.94zm-11 1L8.5 8.5l.94-2.06 2.06-.94-2.06-.94L8.5 2.5l-.94 2.06-2.06.94zm10 10l.94 2.06.94-2.06 2.06-.94-2.06-.94-.94-2.06-.94 2.06-2.06.94z\"/><path d=\"M17.41 7.96l-1.37-1.37c-.4-.4-.92-.59-1.43-.59-.52 0-1.04.2-1.43.59L10.3 9.45l-7.72 7.72c-.78.78-.78 2.05 0 2.83L4 21.41c.39.39.9.59 1.41.59.51 0 1.02-.2 1.41-.59l7.78-7.78 2.81-2.81c.8-.78.8-2.07 0-2.86zM5.41 20L4 18.59l7.72-7.72 1.47 1.35L5.41 20z\"/>\n",
              "  </svg>\n",
              "      </button>\n",
              "      \n",
              "  <style>\n",
              "    .colab-df-container {\n",
              "      display:flex;\n",
              "      flex-wrap:wrap;\n",
              "      gap: 12px;\n",
              "    }\n",
              "\n",
              "    .colab-df-convert {\n",
              "      background-color: #E8F0FE;\n",
              "      border: none;\n",
              "      border-radius: 50%;\n",
              "      cursor: pointer;\n",
              "      display: none;\n",
              "      fill: #1967D2;\n",
              "      height: 32px;\n",
              "      padding: 0 0 0 0;\n",
              "      width: 32px;\n",
              "    }\n",
              "\n",
              "    .colab-df-convert:hover {\n",
              "      background-color: #E2EBFA;\n",
              "      box-shadow: 0px 1px 2px rgba(60, 64, 67, 0.3), 0px 1px 3px 1px rgba(60, 64, 67, 0.15);\n",
              "      fill: #174EA6;\n",
              "    }\n",
              "\n",
              "    [theme=dark] .colab-df-convert {\n",
              "      background-color: #3B4455;\n",
              "      fill: #D2E3FC;\n",
              "    }\n",
              "\n",
              "    [theme=dark] .colab-df-convert:hover {\n",
              "      background-color: #434B5C;\n",
              "      box-shadow: 0px 1px 3px 1px rgba(0, 0, 0, 0.15);\n",
              "      filter: drop-shadow(0px 1px 2px rgba(0, 0, 0, 0.3));\n",
              "      fill: #FFFFFF;\n",
              "    }\n",
              "  </style>\n",
              "\n",
              "      <script>\n",
              "        const buttonEl =\n",
              "          document.querySelector('#df-5759d61f-4361-41ec-8f9d-3968b8addd7b button.colab-df-convert');\n",
              "        buttonEl.style.display =\n",
              "          google.colab.kernel.accessAllowed ? 'block' : 'none';\n",
              "\n",
              "        async function convertToInteractive(key) {\n",
              "          const element = document.querySelector('#df-5759d61f-4361-41ec-8f9d-3968b8addd7b');\n",
              "          const dataTable =\n",
              "            await google.colab.kernel.invokeFunction('convertToInteractive',\n",
              "                                                     [key], {});\n",
              "          if (!dataTable) return;\n",
              "\n",
              "          const docLinkHtml = 'Like what you see? Visit the ' +\n",
              "            '<a target=\"_blank\" href=https://colab.research.google.com/notebooks/data_table.ipynb>data table notebook</a>'\n",
              "            + ' to learn more about interactive tables.';\n",
              "          element.innerHTML = '';\n",
              "          dataTable['output_type'] = 'display_data';\n",
              "          await google.colab.output.renderOutput(dataTable, element);\n",
              "          const docLink = document.createElement('div');\n",
              "          docLink.innerHTML = docLinkHtml;\n",
              "          element.appendChild(docLink);\n",
              "        }\n",
              "      </script>\n",
              "    </div>\n",
              "  </div>\n",
              "  "
            ]
          },
          "metadata": {},
          "execution_count": 8
        }
      ]
    },
    {
      "cell_type": "code",
      "source": [
        "data.info()"
      ],
      "metadata": {
        "colab": {
          "base_uri": "https://localhost:8080/"
        },
        "id": "wktV4pVjXS-6",
        "outputId": "86e2f175-dde7-4f31-aca9-f647f2208683"
      },
      "execution_count": 9,
      "outputs": [
        {
          "output_type": "stream",
          "name": "stdout",
          "text": [
            "<class 'pandas.core.frame.DataFrame'>\n",
            "Int64Index: 2698 entries, 0 to 2710\n",
            "Data columns (total 7 columns):\n",
            " #   Column     Non-Null Count  Dtype  \n",
            "---  ------     --------------  -----  \n",
            " 0   Date       2698 non-null   object \n",
            " 1   Open       2698 non-null   float64\n",
            " 2   High       2698 non-null   float64\n",
            " 3   Low        2698 non-null   float64\n",
            " 4   Close      2698 non-null   float64\n",
            " 5   Adj Close  2698 non-null   float64\n",
            " 6   Volume     2698 non-null   float64\n",
            "dtypes: float64(6), object(1)\n",
            "memory usage: 168.6+ KB\n"
          ]
        }
      ]
    },
    {
      "cell_type": "code",
      "execution_count": 10,
      "metadata": {
        "colab": {
          "base_uri": "https://localhost:8080/"
        },
        "id": "YaHB4Uv9H2G9",
        "outputId": "6c7085fe-c7a7-46ee-e0e0-935cd50cd475"
      },
      "outputs": [
        {
          "output_type": "stream",
          "name": "stdout",
          "text": [
            "              Open         High          Low        Close    Adj Close  Volume\n",
            "Date                                                                          \n",
            "2009-01-02  2010.0  2094.899902  2010.000000  2041.500000  1971.716309  1016.0\n",
            "2009-01-05  2077.5  2077.500000  2035.099976  2059.000000  1988.618408   681.0\n",
            "2009-01-06  2082.0  2082.699951  2025.000000  2050.000000  1979.926392   661.0\n",
            "2009-01-07  2083.0  2083.000000  1882.000000  1900.000000  1835.053589  1099.0\n",
            "2009-01-09  1822.0  1915.000000  1800.000000  1835.650024  1772.903076  1006.0\n"
          ]
        }
      ],
      "source": [
        "data['Date'] = pd.to_datetime(data['Date'])\n",
        "data = data.set_index('Date')\n",
        "print(data.head())"
      ]
    },
    {
      "cell_type": "code",
      "execution_count": 11,
      "metadata": {
        "colab": {
          "base_uri": "https://localhost:8080/"
        },
        "id": "pqog5qMMICmD",
        "outputId": "971a2f59-b024-4f40-b2ac-926343c471d8"
      },
      "outputs": [
        {
          "output_type": "stream",
          "name": "stdout",
          "text": [
            "                    Open          High           Low         Close  \\\n",
            "Date                                                                 \n",
            "2017-12-22  70988.453125  73072.601563  70988.453125  72709.203125   \n",
            "2017-12-26  72602.796875  74499.000000  72222.000000  74017.351563   \n",
            "2017-12-27  74100.000000  74305.953125  72503.351563  72958.703125   \n",
            "2017-12-28  73136.898438  73799.953125  72590.046875  73512.648438   \n",
            "2017-12-29  73579.500000  73846.953125  72200.000000  72348.148438   \n",
            "\n",
            "               Adj Close  Volume  \n",
            "Date                              \n",
            "2017-12-22  72399.742188  1592.0  \n",
            "2017-12-26  73702.343750  1222.0  \n",
            "2017-12-27  72648.187500   749.0  \n",
            "2017-12-28  73199.765625   675.0  \n",
            "2017-12-29  72040.234375   687.0  \n"
          ]
        }
      ],
      "source": [
        "data_split_value = '2017-12-31'\n",
        "train = data[:data_split_value]\n",
        "test = data[data_split_value:]\n",
        "print(train.tail())"
      ]
    },
    {
      "cell_type": "code",
      "source": [
        "test.head()"
      ],
      "metadata": {
        "colab": {
          "base_uri": "https://localhost:8080/",
          "height": 237
        },
        "id": "UovsnRihYFRv",
        "outputId": "bd1708b0-a1f1-47d8-ab65-3a67b6bc75a2"
      },
      "execution_count": 20,
      "outputs": [
        {
          "output_type": "execute_result",
          "data": {
            "text/plain": [
              "                    Open          High           Low         Close  \\\n",
              "Date                                                                 \n",
              "2018-01-01  72500.101563  73163.453125  71930.351563  72249.648438   \n",
              "2018-01-02  72687.453125  72687.453125  71125.046875  71222.453125   \n",
              "2018-01-03  71500.000000  71863.101563  71000.000000  71191.601563   \n",
              "2018-01-04  71654.296875  71654.296875  70938.953125  71200.101563   \n",
              "2018-01-05  71000.000000  72960.000000  71000.000000  72877.953125   \n",
              "\n",
              "               Adj Close  Volume  \n",
              "Date                              \n",
              "2018-01-01  71942.140625   592.0  \n",
              "2018-01-02  70919.328125   520.0  \n",
              "2018-01-03  70888.601563   667.0  \n",
              "2018-01-04  70897.062500   416.0  \n",
              "2018-01-05  72567.789063   649.0  "
            ],
            "text/html": [
              "\n",
              "  <div id=\"df-3608694d-ef3d-4a47-8853-fd3213cc19cf\">\n",
              "    <div class=\"colab-df-container\">\n",
              "      <div>\n",
              "<style scoped>\n",
              "    .dataframe tbody tr th:only-of-type {\n",
              "        vertical-align: middle;\n",
              "    }\n",
              "\n",
              "    .dataframe tbody tr th {\n",
              "        vertical-align: top;\n",
              "    }\n",
              "\n",
              "    .dataframe thead th {\n",
              "        text-align: right;\n",
              "    }\n",
              "</style>\n",
              "<table border=\"1\" class=\"dataframe\">\n",
              "  <thead>\n",
              "    <tr style=\"text-align: right;\">\n",
              "      <th></th>\n",
              "      <th>Open</th>\n",
              "      <th>High</th>\n",
              "      <th>Low</th>\n",
              "      <th>Close</th>\n",
              "      <th>Adj Close</th>\n",
              "      <th>Volume</th>\n",
              "    </tr>\n",
              "    <tr>\n",
              "      <th>Date</th>\n",
              "      <th></th>\n",
              "      <th></th>\n",
              "      <th></th>\n",
              "      <th></th>\n",
              "      <th></th>\n",
              "      <th></th>\n",
              "    </tr>\n",
              "  </thead>\n",
              "  <tbody>\n",
              "    <tr>\n",
              "      <th>2018-01-01</th>\n",
              "      <td>72500.101563</td>\n",
              "      <td>73163.453125</td>\n",
              "      <td>71930.351563</td>\n",
              "      <td>72249.648438</td>\n",
              "      <td>71942.140625</td>\n",
              "      <td>592.0</td>\n",
              "    </tr>\n",
              "    <tr>\n",
              "      <th>2018-01-02</th>\n",
              "      <td>72687.453125</td>\n",
              "      <td>72687.453125</td>\n",
              "      <td>71125.046875</td>\n",
              "      <td>71222.453125</td>\n",
              "      <td>70919.328125</td>\n",
              "      <td>520.0</td>\n",
              "    </tr>\n",
              "    <tr>\n",
              "      <th>2018-01-03</th>\n",
              "      <td>71500.000000</td>\n",
              "      <td>71863.101563</td>\n",
              "      <td>71000.000000</td>\n",
              "      <td>71191.601563</td>\n",
              "      <td>70888.601563</td>\n",
              "      <td>667.0</td>\n",
              "    </tr>\n",
              "    <tr>\n",
              "      <th>2018-01-04</th>\n",
              "      <td>71654.296875</td>\n",
              "      <td>71654.296875</td>\n",
              "      <td>70938.953125</td>\n",
              "      <td>71200.101563</td>\n",
              "      <td>70897.062500</td>\n",
              "      <td>416.0</td>\n",
              "    </tr>\n",
              "    <tr>\n",
              "      <th>2018-01-05</th>\n",
              "      <td>71000.000000</td>\n",
              "      <td>72960.000000</td>\n",
              "      <td>71000.000000</td>\n",
              "      <td>72877.953125</td>\n",
              "      <td>72567.789063</td>\n",
              "      <td>649.0</td>\n",
              "    </tr>\n",
              "  </tbody>\n",
              "</table>\n",
              "</div>\n",
              "      <button class=\"colab-df-convert\" onclick=\"convertToInteractive('df-3608694d-ef3d-4a47-8853-fd3213cc19cf')\"\n",
              "              title=\"Convert this dataframe to an interactive table.\"\n",
              "              style=\"display:none;\">\n",
              "        \n",
              "  <svg xmlns=\"http://www.w3.org/2000/svg\" height=\"24px\"viewBox=\"0 0 24 24\"\n",
              "       width=\"24px\">\n",
              "    <path d=\"M0 0h24v24H0V0z\" fill=\"none\"/>\n",
              "    <path d=\"M18.56 5.44l.94 2.06.94-2.06 2.06-.94-2.06-.94-.94-2.06-.94 2.06-2.06.94zm-11 1L8.5 8.5l.94-2.06 2.06-.94-2.06-.94L8.5 2.5l-.94 2.06-2.06.94zm10 10l.94 2.06.94-2.06 2.06-.94-2.06-.94-.94-2.06-.94 2.06-2.06.94z\"/><path d=\"M17.41 7.96l-1.37-1.37c-.4-.4-.92-.59-1.43-.59-.52 0-1.04.2-1.43.59L10.3 9.45l-7.72 7.72c-.78.78-.78 2.05 0 2.83L4 21.41c.39.39.9.59 1.41.59.51 0 1.02-.2 1.41-.59l7.78-7.78 2.81-2.81c.8-.78.8-2.07 0-2.86zM5.41 20L4 18.59l7.72-7.72 1.47 1.35L5.41 20z\"/>\n",
              "  </svg>\n",
              "      </button>\n",
              "      \n",
              "  <style>\n",
              "    .colab-df-container {\n",
              "      display:flex;\n",
              "      flex-wrap:wrap;\n",
              "      gap: 12px;\n",
              "    }\n",
              "\n",
              "    .colab-df-convert {\n",
              "      background-color: #E8F0FE;\n",
              "      border: none;\n",
              "      border-radius: 50%;\n",
              "      cursor: pointer;\n",
              "      display: none;\n",
              "      fill: #1967D2;\n",
              "      height: 32px;\n",
              "      padding: 0 0 0 0;\n",
              "      width: 32px;\n",
              "    }\n",
              "\n",
              "    .colab-df-convert:hover {\n",
              "      background-color: #E2EBFA;\n",
              "      box-shadow: 0px 1px 2px rgba(60, 64, 67, 0.3), 0px 1px 3px 1px rgba(60, 64, 67, 0.15);\n",
              "      fill: #174EA6;\n",
              "    }\n",
              "\n",
              "    [theme=dark] .colab-df-convert {\n",
              "      background-color: #3B4455;\n",
              "      fill: #D2E3FC;\n",
              "    }\n",
              "\n",
              "    [theme=dark] .colab-df-convert:hover {\n",
              "      background-color: #434B5C;\n",
              "      box-shadow: 0px 1px 3px 1px rgba(0, 0, 0, 0.15);\n",
              "      filter: drop-shadow(0px 1px 2px rgba(0, 0, 0, 0.3));\n",
              "      fill: #FFFFFF;\n",
              "    }\n",
              "  </style>\n",
              "\n",
              "      <script>\n",
              "        const buttonEl =\n",
              "          document.querySelector('#df-3608694d-ef3d-4a47-8853-fd3213cc19cf button.colab-df-convert');\n",
              "        buttonEl.style.display =\n",
              "          google.colab.kernel.accessAllowed ? 'block' : 'none';\n",
              "\n",
              "        async function convertToInteractive(key) {\n",
              "          const element = document.querySelector('#df-3608694d-ef3d-4a47-8853-fd3213cc19cf');\n",
              "          const dataTable =\n",
              "            await google.colab.kernel.invokeFunction('convertToInteractive',\n",
              "                                                     [key], {});\n",
              "          if (!dataTable) return;\n",
              "\n",
              "          const docLinkHtml = 'Like what you see? Visit the ' +\n",
              "            '<a target=\"_blank\" href=https://colab.research.google.com/notebooks/data_table.ipynb>data table notebook</a>'\n",
              "            + ' to learn more about interactive tables.';\n",
              "          element.innerHTML = '';\n",
              "          dataTable['output_type'] = 'display_data';\n",
              "          await google.colab.output.renderOutput(dataTable, element);\n",
              "          const docLink = document.createElement('div');\n",
              "          docLink.innerHTML = docLinkHtml;\n",
              "          element.appendChild(docLink);\n",
              "        }\n",
              "      </script>\n",
              "    </div>\n",
              "  </div>\n",
              "  "
            ]
          },
          "metadata": {},
          "execution_count": 20
        }
      ]
    },
    {
      "cell_type": "code",
      "execution_count": 12,
      "metadata": {
        "id": "0AU7ycLv6tcL"
      },
      "outputs": [],
      "source": [
        "class Environment:\n",
        "    \n",
        "    def __init__(self, data,max_transaction, total_money, history_t=90):\n",
        "        self.data = data\n",
        "        self.history_t = history_t\n",
        "        self.max_transaction = max_transaction\n",
        "        self.total_money = total_money\n",
        "        self.share_purchase = []\n",
        "        self.reset()\n",
        "        \n",
        "    def reset(self):\n",
        "        self.t = 0\n",
        "        self.done = False\n",
        "        self.profits = 0\n",
        "        self.current_stock_bought = 0\n",
        "        self.current_transaction_count = 0\n",
        "        self.position_value = 0\n",
        "        self.history = [0 for _ in range(self.history_t)]\n",
        "        \n",
        "        return self.history\n",
        "        \n",
        "    def step(self,act):\n",
        "        reward = 0\n",
        "        x = self.total_money/(self.max_transaction - self.current_transaction_count)\n",
        "        \n",
        "        if act == 1 and self.current_transaction_count < self.max_transaction and self.total_money >= x:\n",
        "            self.share_purchase.append(data.iloc[self.t,:]['Close'])\n",
        "            self.total_money = self.total_money - x\n",
        "            self.current_stock_bought += x/(self.data.iloc[self.t,:]['Close'])\n",
        "            self.current_transaction_count += 1\n",
        "            \n",
        "        elif act == 2:\n",
        "            if self.current_transaction_count == 0:\n",
        "                reward -= self.data.iloc[self.t,:]['Close']*0.2\n",
        "            \n",
        "            profits = 0\n",
        "            self.total_money += (self.data.iloc[self.t,:]['Close'])*self.current_stock_bought\n",
        "            self.current_stock_bought = 0\n",
        "            self.current_transaction_count = 0\n",
        "            \n",
        "            for p in self.share_purchase:\n",
        "                profits += self.data.iloc[self.t,:]['Close'] - p\n",
        "            reward += profits\n",
        "            \n",
        "            self.positions = []\n",
        "            \n",
        "        self.t += 1\n",
        "        \n",
        "        self.history.pop(0)\n",
        "        if self.t < data.shape[0] - 1:\n",
        "            self.history.append(self.data.iloc[self.t,:]['Close'] - self.data.iloc[(self.t - 1),:]['Close'])\n",
        "        \n",
        "        return self.history, reward,self.done "
      ]
    },
    {
      "cell_type": "code",
      "execution_count": 13,
      "metadata": {
        "id": "3Z3xgQpT5j9k"
      },
      "outputs": [],
      "source": [
        "class DeepQNetwork(nn.Module):\n",
        "    def __init__(self, lr, input_dims, fc1_dims, fc2_dims, \n",
        "            n_actions):\n",
        "        super(DeepQNetwork, self).__init__()\n",
        "        self.input_dims = input_dims\n",
        "        self.fc1_dims = fc1_dims\n",
        "        self.fc2_dims = fc2_dims\n",
        "        self.n_actions = n_actions\n",
        "        self.fc1 = nn.Linear(self.input_dims, self.fc1_dims)\n",
        "        self.fc2 = nn.Linear(self.fc1_dims, self.fc2_dims)\n",
        "        self.fc3 = nn.Linear(self.fc2_dims, self.n_actions)\n",
        "\n",
        "        self.optimizer = optim.Adam(self.parameters(), lr=lr)\n",
        "        self.loss = nn.MSELoss()\n",
        "        self.device = T.device('cuda:0' if T.cuda.is_available() else 'cpu')\n",
        "        self.to(self.device)\n",
        "\n",
        "    def forward(self, state):\n",
        "        x = F.relu(self.fc1(state))\n",
        "        x = F.relu(self.fc2(x))\n",
        "        actions = self.fc3(x)\n",
        "\n",
        "        return actions"
      ]
    },
    {
      "cell_type": "code",
      "execution_count": 14,
      "metadata": {
        "id": "qn6oNVb80BrX"
      },
      "outputs": [],
      "source": [
        "class Agent():\n",
        "    def __init__(self, gamma, epsilon, lr, input_dims, batch_size, n_actions,\n",
        "            max_mem_size=10000, eps_end=0.05, eps_dec=5e-4):\n",
        "        self.input_dims = input_dims\n",
        "        self.gamma = gamma\n",
        "        self.epsilon = epsilon\n",
        "        self.eps_min = eps_end\n",
        "        self.eps_dec = eps_dec\n",
        "        self.lr = lr\n",
        "        self.action_space = [i for i in range(n_actions)]\n",
        "        self.mem_size = max_mem_size\n",
        "        self.batch_size = batch_size\n",
        "        self.mem_cntr = 0\n",
        "        self.iter_cntr = 0\n",
        "\n",
        "        self.Q_eval = DeepQNetwork(lr, n_actions=n_actions, input_dims=self.input_dims,\n",
        "                                    fc1_dims=256, fc2_dims=256)\n",
        "        self.Q_next = DeepQNetwork(lr, n_actions=n_actions, input_dims=self.input_dims,\n",
        "                                    fc1_dims=64, fc2_dims=64)\n",
        "\n",
        "        self.state_memory = np.zeros((self.mem_size, self.input_dims), dtype=np.float32)\n",
        "        self.new_state_memory = np.zeros((self.mem_size, self.input_dims), dtype=np.float32)\n",
        "        self.action_memory = np.zeros(self.mem_size, dtype=np.int32)\n",
        "        self.reward_memory = np.zeros(self.mem_size, dtype=np.float32)\n",
        "        self.terminal_memory = np.zeros(self.mem_size, dtype=np.bool)\n",
        "\n",
        "    def store_transition(self, state, action, reward, state_, terminal):\n",
        "        index = self.mem_cntr % self.mem_size\n",
        "        self.state_memory[index] = state\n",
        "        self.new_state_memory[index] = state_\n",
        "        self.reward_memory[index] = reward\n",
        "        self.action_memory[index] = action\n",
        "        self.terminal_memory[index] = terminal\n",
        "\n",
        "        self.mem_cntr += 1\n",
        "\n",
        "    def choose_action(self, observation):\n",
        "        if np.random.random() > self.epsilon:\n",
        "            state = T.tensor([observation],dtype=T.float32).to(self.Q_eval.device)\n",
        "            actions = self.Q_eval.forward(state)\n",
        "            action = T.argmax(actions).item()\n",
        "        else:\n",
        "            action = np.random.choice(self.action_space)\n",
        "\n",
        "        return action\n",
        "\n",
        "    def learn(self):\n",
        "        if self.mem_cntr < self.batch_size:\n",
        "            return\n",
        "\n",
        "        self.Q_eval.optimizer.zero_grad()\n",
        "        \n",
        "        max_mem = min(self.mem_cntr, self.mem_size)\n",
        "\n",
        "        batch = np.random.choice(max_mem, self.batch_size, replace=False)\n",
        "        \n",
        "        batch_index = np.arange(self.batch_size, dtype=np.int32)\n",
        "\n",
        "        state_batch = T.tensor(self.state_memory[batch]).to(self.Q_eval.device)\n",
        "        new_state_batch = T.tensor(self.new_state_memory[batch]).to(self.Q_eval.device)\n",
        "        action_batch = self.action_memory[batch]\n",
        "        reward_batch = T.tensor(self.reward_memory[batch]).to(self.Q_eval.device)\n",
        "        terminal_batch = T.tensor(self.terminal_memory[batch]).to(self.Q_eval.device)\n",
        "\n",
        "        q_eval = self.Q_eval.forward(state_batch)[batch_index, action_batch]\n",
        "        q_next = self.Q_eval.forward(new_state_batch)\n",
        "        q_next[terminal_batch] = 0.0\n",
        "\n",
        "        q_target = reward_batch + self.gamma*T.max(q_next,dim=1)[0]\n",
        "\n",
        "        loss = self.Q_eval.loss(q_target, q_eval).to(self.Q_eval.device)\n",
        "        loss.backward()\n",
        "        self.Q_eval.optimizer.step()\n",
        "\n",
        "        self.iter_cntr += 1\n",
        "        self.epsilon = self.epsilon - self.eps_dec if self.epsilon > self.eps_min else self.eps_min"
      ]
    },
    {
      "cell_type": "code",
      "execution_count": 15,
      "metadata": {
        "colab": {
          "base_uri": "https://localhost:8080/"
        },
        "id": "bonmmmb25uK6",
        "outputId": "87405a4c-a023-428d-c45c-1a294f491850"
      },
      "outputs": [
        {
          "output_type": "stream",
          "name": "stderr",
          "text": [
            "/usr/local/lib/python3.7/dist-packages/ipykernel_launcher.py:25: DeprecationWarning: `np.bool` is a deprecated alias for the builtin `bool`. To silence this warning, use `bool` by itself. Doing this will not modify any behavior and is safe. If you specifically wanted the numpy scalar type, use `np.bool_` here.\n",
            "Deprecated in NumPy 1.20; for more details and guidance: https://numpy.org/devdocs/release/1.20.0-notes.html#deprecations\n"
          ]
        }
      ],
      "source": [
        "env = Environment(data = train, max_transaction=max_transaction, total_money= total_money)\n",
        "\n",
        "agent = Agent(gamma=0.99, epsilon=1.0, batch_size=64, n_actions=3, eps_end=0.01, input_dims= env.history_t, lr=0.001)\n",
        "total_rewards, actions = [], []\n",
        "n_epochs = 10\n",
        "obs = []\n",
        "for i in range(n_epochs):\n",
        "    total_reward = 0\n",
        "    j = 0\n",
        "    done = False\n",
        "    observation = env.reset()\n",
        "    while not done and j < 50:\n",
        "        j += 1\n",
        "        action = agent.choose_action(observation)\n",
        "        actions.append(action)\n",
        "        observation_, reward, done = env.step(action)\n",
        "        total_reward += reward\n",
        "        agent.store_transition(observation, action, reward, observation_, done)\n",
        "        agent.learn()\n",
        "        observation = observation_\n",
        "    total_rewards.append(total_reward)\n",
        "    obs = copy.deepcopy(observation)"
      ]
    },
    {
      "cell_type": "code",
      "execution_count": 16,
      "metadata": {
        "id": "9ZN3q-3PYBQq",
        "colab": {
          "base_uri": "https://localhost:8080/"
        },
        "outputId": "286a546c-e989-418f-fc5d-d960bd1a11b2"
      },
      "outputs": [
        {
          "output_type": "stream",
          "name": "stdout",
          "text": [
            "500\n",
            "90\n",
            "90\n"
          ]
        }
      ],
      "source": [
        "print(len(actions))\n",
        "print(len(obs))\n",
        "action_taken = actions[len(actions) - len(obs):]\n",
        "print(len(action_taken))"
      ]
    },
    {
      "cell_type": "code",
      "execution_count": 17,
      "metadata": {
        "id": "LXKPN8z1OqpX"
      },
      "outputs": [],
      "source": [
        "profiatble_or_not = []\n",
        "action_taken = actions[len(actions) - len(obs):]\n",
        "\n",
        "for i in range(len(obs)):\n",
        "  if (obs[i] > 0 and action_taken[i] != 2) or (obs[i] < 0 and action_taken[i] != 1) or (obs[i]==0):\n",
        "    profiatble_or_not.append('Profitable')\n",
        "    \n",
        "  else:\n",
        "    profiatble_or_not.append('Not Profitable')\n",
        "\n",
        "ans = {\n",
        "    'Actions':action_taken,\n",
        "    'Reward':obs,\n",
        "    'profitable':profiatble_or_not\n",
        "}\n",
        "ans = pd.DataFrame(ans)"
      ]
    },
    {
      "cell_type": "code",
      "execution_count": 18,
      "metadata": {
        "id": "cmrKzNasSdEV",
        "colab": {
          "base_uri": "https://localhost:8080/",
          "height": 424
        },
        "outputId": "541fc7f6-10d7-401c-821b-a6df8d2763ad"
      },
      "outputs": [
        {
          "output_type": "execute_result",
          "data": {
            "text/plain": [
              "    Actions     Reward      profitable\n",
              "0         2   0.000000      Profitable\n",
              "1         0   0.000000      Profitable\n",
              "2         2   0.000000      Profitable\n",
              "3         1   0.000000      Profitable\n",
              "4         1   0.000000      Profitable\n",
              "..      ...        ...             ...\n",
              "85        1  18.400024      Profitable\n",
              "86        0  49.400025      Profitable\n",
              "87        0  14.849975      Profitable\n",
              "88        0  17.750000      Profitable\n",
              "89        1 -33.650024  Not Profitable\n",
              "\n",
              "[90 rows x 3 columns]"
            ],
            "text/html": [
              "\n",
              "  <div id=\"df-0b40f336-1c4c-41c5-8439-ed565e26797b\">\n",
              "    <div class=\"colab-df-container\">\n",
              "      <div>\n",
              "<style scoped>\n",
              "    .dataframe tbody tr th:only-of-type {\n",
              "        vertical-align: middle;\n",
              "    }\n",
              "\n",
              "    .dataframe tbody tr th {\n",
              "        vertical-align: top;\n",
              "    }\n",
              "\n",
              "    .dataframe thead th {\n",
              "        text-align: right;\n",
              "    }\n",
              "</style>\n",
              "<table border=\"1\" class=\"dataframe\">\n",
              "  <thead>\n",
              "    <tr style=\"text-align: right;\">\n",
              "      <th></th>\n",
              "      <th>Actions</th>\n",
              "      <th>Reward</th>\n",
              "      <th>profitable</th>\n",
              "    </tr>\n",
              "  </thead>\n",
              "  <tbody>\n",
              "    <tr>\n",
              "      <th>0</th>\n",
              "      <td>2</td>\n",
              "      <td>0.000000</td>\n",
              "      <td>Profitable</td>\n",
              "    </tr>\n",
              "    <tr>\n",
              "      <th>1</th>\n",
              "      <td>0</td>\n",
              "      <td>0.000000</td>\n",
              "      <td>Profitable</td>\n",
              "    </tr>\n",
              "    <tr>\n",
              "      <th>2</th>\n",
              "      <td>2</td>\n",
              "      <td>0.000000</td>\n",
              "      <td>Profitable</td>\n",
              "    </tr>\n",
              "    <tr>\n",
              "      <th>3</th>\n",
              "      <td>1</td>\n",
              "      <td>0.000000</td>\n",
              "      <td>Profitable</td>\n",
              "    </tr>\n",
              "    <tr>\n",
              "      <th>4</th>\n",
              "      <td>1</td>\n",
              "      <td>0.000000</td>\n",
              "      <td>Profitable</td>\n",
              "    </tr>\n",
              "    <tr>\n",
              "      <th>...</th>\n",
              "      <td>...</td>\n",
              "      <td>...</td>\n",
              "      <td>...</td>\n",
              "    </tr>\n",
              "    <tr>\n",
              "      <th>85</th>\n",
              "      <td>1</td>\n",
              "      <td>18.400024</td>\n",
              "      <td>Profitable</td>\n",
              "    </tr>\n",
              "    <tr>\n",
              "      <th>86</th>\n",
              "      <td>0</td>\n",
              "      <td>49.400025</td>\n",
              "      <td>Profitable</td>\n",
              "    </tr>\n",
              "    <tr>\n",
              "      <th>87</th>\n",
              "      <td>0</td>\n",
              "      <td>14.849975</td>\n",
              "      <td>Profitable</td>\n",
              "    </tr>\n",
              "    <tr>\n",
              "      <th>88</th>\n",
              "      <td>0</td>\n",
              "      <td>17.750000</td>\n",
              "      <td>Profitable</td>\n",
              "    </tr>\n",
              "    <tr>\n",
              "      <th>89</th>\n",
              "      <td>1</td>\n",
              "      <td>-33.650024</td>\n",
              "      <td>Not Profitable</td>\n",
              "    </tr>\n",
              "  </tbody>\n",
              "</table>\n",
              "<p>90 rows × 3 columns</p>\n",
              "</div>\n",
              "      <button class=\"colab-df-convert\" onclick=\"convertToInteractive('df-0b40f336-1c4c-41c5-8439-ed565e26797b')\"\n",
              "              title=\"Convert this dataframe to an interactive table.\"\n",
              "              style=\"display:none;\">\n",
              "        \n",
              "  <svg xmlns=\"http://www.w3.org/2000/svg\" height=\"24px\"viewBox=\"0 0 24 24\"\n",
              "       width=\"24px\">\n",
              "    <path d=\"M0 0h24v24H0V0z\" fill=\"none\"/>\n",
              "    <path d=\"M18.56 5.44l.94 2.06.94-2.06 2.06-.94-2.06-.94-.94-2.06-.94 2.06-2.06.94zm-11 1L8.5 8.5l.94-2.06 2.06-.94-2.06-.94L8.5 2.5l-.94 2.06-2.06.94zm10 10l.94 2.06.94-2.06 2.06-.94-2.06-.94-.94-2.06-.94 2.06-2.06.94z\"/><path d=\"M17.41 7.96l-1.37-1.37c-.4-.4-.92-.59-1.43-.59-.52 0-1.04.2-1.43.59L10.3 9.45l-7.72 7.72c-.78.78-.78 2.05 0 2.83L4 21.41c.39.39.9.59 1.41.59.51 0 1.02-.2 1.41-.59l7.78-7.78 2.81-2.81c.8-.78.8-2.07 0-2.86zM5.41 20L4 18.59l7.72-7.72 1.47 1.35L5.41 20z\"/>\n",
              "  </svg>\n",
              "      </button>\n",
              "      \n",
              "  <style>\n",
              "    .colab-df-container {\n",
              "      display:flex;\n",
              "      flex-wrap:wrap;\n",
              "      gap: 12px;\n",
              "    }\n",
              "\n",
              "    .colab-df-convert {\n",
              "      background-color: #E8F0FE;\n",
              "      border: none;\n",
              "      border-radius: 50%;\n",
              "      cursor: pointer;\n",
              "      display: none;\n",
              "      fill: #1967D2;\n",
              "      height: 32px;\n",
              "      padding: 0 0 0 0;\n",
              "      width: 32px;\n",
              "    }\n",
              "\n",
              "    .colab-df-convert:hover {\n",
              "      background-color: #E2EBFA;\n",
              "      box-shadow: 0px 1px 2px rgba(60, 64, 67, 0.3), 0px 1px 3px 1px rgba(60, 64, 67, 0.15);\n",
              "      fill: #174EA6;\n",
              "    }\n",
              "\n",
              "    [theme=dark] .colab-df-convert {\n",
              "      background-color: #3B4455;\n",
              "      fill: #D2E3FC;\n",
              "    }\n",
              "\n",
              "    [theme=dark] .colab-df-convert:hover {\n",
              "      background-color: #434B5C;\n",
              "      box-shadow: 0px 1px 3px 1px rgba(0, 0, 0, 0.15);\n",
              "      filter: drop-shadow(0px 1px 2px rgba(0, 0, 0, 0.3));\n",
              "      fill: #FFFFFF;\n",
              "    }\n",
              "  </style>\n",
              "\n",
              "      <script>\n",
              "        const buttonEl =\n",
              "          document.querySelector('#df-0b40f336-1c4c-41c5-8439-ed565e26797b button.colab-df-convert');\n",
              "        buttonEl.style.display =\n",
              "          google.colab.kernel.accessAllowed ? 'block' : 'none';\n",
              "\n",
              "        async function convertToInteractive(key) {\n",
              "          const element = document.querySelector('#df-0b40f336-1c4c-41c5-8439-ed565e26797b');\n",
              "          const dataTable =\n",
              "            await google.colab.kernel.invokeFunction('convertToInteractive',\n",
              "                                                     [key], {});\n",
              "          if (!dataTable) return;\n",
              "\n",
              "          const docLinkHtml = 'Like what you see? Visit the ' +\n",
              "            '<a target=\"_blank\" href=https://colab.research.google.com/notebooks/data_table.ipynb>data table notebook</a>'\n",
              "            + ' to learn more about interactive tables.';\n",
              "          element.innerHTML = '';\n",
              "          dataTable['output_type'] = 'display_data';\n",
              "          await google.colab.output.renderOutput(dataTable, element);\n",
              "          const docLink = document.createElement('div');\n",
              "          docLink.innerHTML = docLinkHtml;\n",
              "          element.appendChild(docLink);\n",
              "        }\n",
              "      </script>\n",
              "    </div>\n",
              "  </div>\n",
              "  "
            ]
          },
          "metadata": {},
          "execution_count": 18
        }
      ],
      "source": [
        "ans"
      ]
    },
    {
      "cell_type": "code",
      "execution_count": 19,
      "metadata": {
        "id": "_4oHyDbAbEFT",
        "colab": {
          "base_uri": "https://localhost:8080/",
          "height": 265
        },
        "outputId": "4a1c796e-c4a1-4139-b246-ffb401cf2bfe"
      },
      "outputs": [
        {
          "output_type": "execute_result",
          "data": {
            "text/plain": [
              "<matplotlib.axes._subplots.AxesSubplot at 0x7f9d5050ff10>"
            ]
          },
          "metadata": {},
          "execution_count": 19
        },
        {
          "output_type": "display_data",
          "data": {
            "text/plain": [
              "<Figure size 432x288 with 1 Axes>"
            ],
            "image/png": "[encoded data removed]"
          },
          "metadata": {}
        }
      ],
      "source": [
        "ans['profitable'].value_counts().plot.pie(autopct = '%1.1f%%')"
      ]
    },
    {
      "cell_type": "code",
      "execution_count": null,
      "metadata": {
        "id": "9rAZl6YIbnUE"
      },
      "outputs": [],
      "source": [
        ""
      ]
    }
  ],
  "metadata": {
    "accelerator": "GPU",
    "colab": {
      "collapsed_sections": [],
      "name": "StockPricePrediction.ipynb",
      "provenance": [],
      "authorship_tag": "ABX9TyNaEBsQgzSfmSZJj99Og+gh",
      "include_colab_link": true
    },
    "kernelspec": {
      "display_name": "Python 3",
      "name": "python3"
    },
    "language_info": {
      "name": "python"
    }
  },
  "nbformat": 4,
  "nbformat_minor": 0
}